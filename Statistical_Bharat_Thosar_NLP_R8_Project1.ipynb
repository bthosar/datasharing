{
  "nbformat": 4,
  "nbformat_minor": 0,
  "metadata": {
    "kernelspec": {
      "display_name": "Python 3",
      "language": "python",
      "name": "python3"
    },
    "language_info": {
      "codemirror_mode": {
        "name": "ipython",
        "version": 3
      },
      "file_extension": ".py",
      "mimetype": "text/x-python",
      "name": "python",
      "nbconvert_exporter": "python",
      "pygments_lexer": "ipython3",
      "version": "3.7.3"
    },
    "colab": {
      "name": "Statistical NLP_R8_Project1.ipynb",
      "provenance": [],
      "collapsed_sections": [
        "5EvuN8h8_njR",
        "L39RInyU_nje",
        "rarEiv0M_njt",
        "G-ZeH-2I_njz",
        "YLnLmQZy_nj7"
      ],
      "include_colab_link": true
    }
  },
  "cells": [
    {
      "cell_type": "markdown",
      "metadata": {
        "id": "view-in-github",
        "colab_type": "text"
      },
      "source": [
        "<a href=\"https://colab.research.google.com/github/bthosar/datasharing/blob/master/Statistical_Bharat_Thosar_NLP_R8_Project1.ipynb\" target=\"_parent\"><img src=\"https://colab.research.google.com/assets/colab-badge.svg\" alt=\"Open In Colab\"/></a>"
      ]
    },
    {
      "cell_type": "code",
      "metadata": {
        "id": "saW4Bz0V_niY",
        "colab_type": "code",
        "colab": {}
      },
      "source": [
        "# import warnings\n",
        "#warnings.filterwarnings('ignore')\n",
        "\n",
        "import pandas as pd\n",
        "import matplotlib.pyplot as plt # data visualization library\n",
        "%matplotlib inline\n",
        "import seaborn as sns\n",
        "\n",
        "import re\n",
        "import nltk\n",
        "\n",
        "from sklearn.model_selection import train_test_split\n",
        "from sklearn.feature_extraction.text import CountVectorizer\n",
        "from sklearn.linear_model import LogisticRegression\n",
        "from sklearn.naive_bayes import MultinomialNB\n",
        "from sklearn import metrics\n",
        "from sklearn.metrics import accuracy_score, f1_score, average_precision_score, recall_score\n",
        "\n",
        "from nltk.corpus import stopwords\n",
        "from nltk.tokenize import word_tokenize\n",
        "from string import punctuation\n",
        "from nltk.corpus import stopwords\n",
        "from nltk.stem import WordNetLemmatizer #word stemmer class\n",
        "lemma = WordNetLemmatizer()\n",
        "from wordcloud import WordCloud, STOPWORDS\n",
        "from nltk import FreqDist\n",
        "from google.colab import files\n",
        "uploaded = files.upload()"
      ],
      "execution_count": null,
      "outputs": []
    },
    {
      "cell_type": "code",
      "metadata": {
        "id": "ID5hsUoe_nic",
        "colab_type": "code",
        "colab": {}
      },
      "source": [
        ""
      ],
      "execution_count": 4,
      "outputs": []
    },
    {
      "cell_type": "code",
      "metadata": {
        "id": "M_vDR4G3_nig",
        "colab_type": "code",
        "colab": {
          "base_uri": "https://localhost:8080/",
          "height": 204
        },
        "outputId": "13f1c4d9-ef28-43a8-ab35-b1b729cea282"
      },
      "source": [
        "#select 5000 rows\n",
        "df = pd.read_csv('blogtext.csv', nrows= 5000)\n",
        "df.sample(5)"
      ],
      "execution_count": 8,
      "outputs": [
        {
          "output_type": "execute_result",
          "data": {
            "text/html": [
              "<div>\n",
              "<style scoped>\n",
              "    .dataframe tbody tr th:only-of-type {\n",
              "        vertical-align: middle;\n",
              "    }\n",
              "\n",
              "    .dataframe tbody tr th {\n",
              "        vertical-align: top;\n",
              "    }\n",
              "\n",
              "    .dataframe thead th {\n",
              "        text-align: right;\n",
              "    }\n",
              "</style>\n",
              "<table border=\"1\" class=\"dataframe\">\n",
              "  <thead>\n",
              "    <tr style=\"text-align: right;\">\n",
              "      <th></th>\n",
              "      <th>id</th>\n",
              "      <th>gender</th>\n",
              "      <th>age</th>\n",
              "      <th>topic</th>\n",
              "      <th>sign</th>\n",
              "      <th>date</th>\n",
              "      <th>text</th>\n",
              "    </tr>\n",
              "  </thead>\n",
              "  <tbody>\n",
              "    <tr>\n",
              "      <th>2752</th>\n",
              "      <td>589736</td>\n",
              "      <td>male</td>\n",
              "      <td>35</td>\n",
              "      <td>Technology</td>\n",
              "      <td>Aries</td>\n",
              "      <td>05,August,2004</td>\n",
              "      <td>urlLink children's chorus, singing...</td>\n",
              "    </tr>\n",
              "    <tr>\n",
              "      <th>2041</th>\n",
              "      <td>589736</td>\n",
              "      <td>male</td>\n",
              "      <td>35</td>\n",
              "      <td>Technology</td>\n",
              "      <td>Aries</td>\n",
              "      <td>05,August,2004</td>\n",
              "      <td>Thanks Mir, it worked!  Julie came ...</td>\n",
              "    </tr>\n",
              "    <tr>\n",
              "      <th>14</th>\n",
              "      <td>3581210</td>\n",
              "      <td>male</td>\n",
              "      <td>33</td>\n",
              "      <td>InvestmentBanking</td>\n",
              "      <td>Aquarius</td>\n",
              "      <td>09,June,2004</td>\n",
              "      <td>urlLink    Here it is, the super...</td>\n",
              "    </tr>\n",
              "    <tr>\n",
              "      <th>4813</th>\n",
              "      <td>1077954</td>\n",
              "      <td>male</td>\n",
              "      <td>26</td>\n",
              "      <td>indUnk</td>\n",
              "      <td>Gemini</td>\n",
              "      <td>31,August,2003</td>\n",
              "      <td>Thursday Augest 28, 2003 was OZZFest, a...</td>\n",
              "    </tr>\n",
              "    <tr>\n",
              "      <th>313</th>\n",
              "      <td>649790</td>\n",
              "      <td>female</td>\n",
              "      <td>24</td>\n",
              "      <td>indUnk</td>\n",
              "      <td>Scorpio</td>\n",
              "      <td>03,July,2002</td>\n",
              "      <td>Drew drew a picture of drool......</td>\n",
              "    </tr>\n",
              "  </tbody>\n",
              "</table>\n",
              "</div>"
            ],
            "text/plain": [
              "           id  ...                                               text\n",
              "2752   589736  ...              urlLink children's chorus, singing...\n",
              "2041   589736  ...             Thanks Mir, it worked!  Julie came ...\n",
              "14    3581210  ...                urlLink    Here it is, the super...\n",
              "4813  1077954  ...         Thursday Augest 28, 2003 was OZZFest, a...\n",
              "313    649790  ...                 Drew drew a picture of drool......\n",
              "\n",
              "[5 rows x 7 columns]"
            ]
          },
          "metadata": {
            "tags": []
          },
          "execution_count": 8
        }
      ]
    },
    {
      "cell_type": "markdown",
      "metadata": {
        "id": "qLYyesY8_nij",
        "colab_type": "text"
      },
      "source": [
        "2. Preprocess rows of the “text” column (7.5 points)"
      ]
    },
    {
      "cell_type": "code",
      "metadata": {
        "id": "8bVnLGWP_nik",
        "colab_type": "code",
        "colab": {
          "base_uri": "https://localhost:8080/",
          "height": 51
        },
        "outputId": "5d9caaa1-17a3-4ffe-da80-cea0604f79b3"
      },
      "source": [
        "nltk.download('words')\n",
        "words = set(nltk.corpus.words.words())"
      ],
      "execution_count": 9,
      "outputs": [
        {
          "output_type": "stream",
          "text": [
            "[nltk_data] Downloading package words to /root/nltk_data...\n",
            "[nltk_data]   Unzipping corpora/words.zip.\n"
          ],
          "name": "stdout"
        }
      ]
    },
    {
      "cell_type": "code",
      "metadata": {
        "id": "mmqi8HNn_nio",
        "colab_type": "code",
        "colab": {
          "base_uri": "https://localhost:8080/",
          "height": 85
        },
        "outputId": "7f55cf99-208b-4f50-b327-1def8d831cf6"
      },
      "source": [
        "nltk.download('stopwords')\n",
        "nltk.download('wordnet')\n",
        "def normalizer(blogs):\n",
        "    blogs = \" \".join(filter(lambda x: x[0]!= '@' , blogs.split()))\n",
        "    blogs = re.sub('[^a-zA-Z]', ' ', blogs)\n",
        "    blogs = blogs.lower()\n",
        "    blogs = re.sub(' +', ' ', blogs).strip()\n",
        "    blogs = blogs.split()\n",
        "    blogs = [word for word in blogs if not word in set(stopwords.words('english'))]\n",
        "    blogs = [lemma.lemmatize(word) for word in blogs]\n",
        "    \n",
        "    blogs = \" \".join(blogs)\n",
        "    return blogs"
      ],
      "execution_count": 10,
      "outputs": [
        {
          "output_type": "stream",
          "text": [
            "[nltk_data] Downloading package stopwords to /root/nltk_data...\n",
            "[nltk_data]   Unzipping corpora/stopwords.zip.\n",
            "[nltk_data] Downloading package wordnet to /root/nltk_data...\n",
            "[nltk_data]   Unzipping corpora/wordnet.zip.\n"
          ],
          "name": "stdout"
        }
      ]
    },
    {
      "cell_type": "code",
      "metadata": {
        "id": "h6jaATmM_nir",
        "colab_type": "code",
        "colab": {
          "base_uri": "https://localhost:8080/",
          "height": 248
        },
        "outputId": "4de82dc2-a5aa-48ac-e724-6888170bf55a"
      },
      "source": [
        "\n",
        "df['normalized_text'] = df.text.apply(normalizer)\n",
        "df.head()\n",
        "# all tweets \n",
        "all_words = \" \".join(df.normalized_text)\n",
        "wordcloud = WordCloud(height=2000, width=2000, stopwords=STOPWORDS, background_color='white')\n",
        "wordcloud = wordcloud.generate(all_words)\n",
        "plt.imshow(wordcloud)\n",
        "plt.axis('off')\n",
        "plt.show()"
      ],
      "execution_count": 11,
      "outputs": [
        {
          "output_type": "display_data",
          "data": {
            "image/png": "[encoded data removed]",
            "text/plain": [
              "<Figure size 432x288 with 1 Axes>"
            ]
          },
          "metadata": {
            "tags": [],
            "needs_background": "light"
          }
        }
      ]
    },
    {
      "cell_type": "markdown",
      "metadata": {
        "id": "b9OQcLIo_niu",
        "colab_type": "text"
      },
      "source": [
        "# 3. As we want to make this into a multi-label classification problem, you are required to merge all the label columns together, so that we have all the labels together for a particular sentence (7.5 points)"
      ]
    },
    {
      "cell_type": "code",
      "metadata": {
        "id": "-bU8QfdP_niu",
        "colab_type": "code",
        "colab": {
          "base_uri": "https://localhost:8080/",
          "height": 170
        },
        "outputId": "742eaf8e-fc41-4974-832e-4e1d46c7eb55"
      },
      "source": [
        "##  create another dataframe dfBT having only the columns needed for creating label\n",
        "dfBT=df[['gender', 'age', 'topic', 'sign']]\n",
        "## Convert age from int type into String\n",
        "dfT['age']=dfT['age'].astype('str')\n",
        "## Create a 2D Matrix 'm' which is list of list contaning 'gender', 'age', 'topic', 'sign' for each row\n",
        "m=[]                              # 2D Matrix having list of list\n",
        "for i in range(dfT.shape[0]):\n",
        "    g=[]                          # 1D list of 'gender', 'age', 'topic', 'sign'\n",
        "    for j in range(dfT.shape[1]):\n",
        "        g.append(dfT.iloc[i][j])\n",
        "    m.append(g)\n",
        "\n",
        "#Add a column called labels\n",
        "df['labels']=m\n",
        "df.head()\n",
        "final_df = df[['normalized_text', 'labels']]\n",
        "final_df.head()\n",
        "# Lets Check Distribution of Labels\n",
        "final_df['labels'].astype('str').value_counts()\n",
        "## Check for Null Values\n",
        "final_df.isna().sum()"
      ],
      "execution_count": 13,
      "outputs": [
        {
          "output_type": "stream",
          "text": [
            "/usr/local/lib/python3.6/dist-packages/ipykernel_launcher.py:4: SettingWithCopyWarning: \n",
            "A value is trying to be set on a copy of a slice from a DataFrame.\n",
            "Try using .loc[row_indexer,col_indexer] = value instead\n",
            "\n",
            "See the caveats in the documentation: https://pandas.pydata.org/pandas-docs/stable/user_guide/indexing.html#returning-a-view-versus-a-copy\n",
            "  after removing the cwd from sys.path.\n"
          ],
          "name": "stderr"
        },
        {
          "output_type": "execute_result",
          "data": {
            "text/plain": [
              "normalized_text    0\n",
              "labels             0\n",
              "dtype: int64"
            ]
          },
          "metadata": {
            "tags": []
          },
          "execution_count": 13
        }
      ]
    },
    {
      "cell_type": "markdown",
      "metadata": {
        "id": "BY3-2hBu_niz",
        "colab_type": "text"
      },
      "source": [
        "# 4. Separate features and labels, and split the data into training and testing"
      ]
    },
    {
      "cell_type": "code",
      "metadata": {
        "id": "dhnCguII_niz",
        "colab_type": "code",
        "colab": {}
      },
      "source": [
        "X = final_df['normalized_text']\n",
        "y = final_df['labels']"
      ],
      "execution_count": 21,
      "outputs": []
    },
    {
      "cell_type": "code",
      "metadata": {
        "id": "hyI3aJEG_ni3",
        "colab_type": "code",
        "colab": {}
      },
      "source": [
        "X_train, X_test, y_train, y_test =  train_test_split(X, y, test_size = 0.25)"
      ],
      "execution_count": 22,
      "outputs": []
    },
    {
      "cell_type": "markdown",
      "metadata": {
        "id": "nU2mlAt7_ni6",
        "colab_type": "text"
      },
      "source": [
        "# 5. Vectorize the features"
      ]
    },
    {
      "cell_type": "code",
      "metadata": {
        "id": "TwtZRQWX_ni6",
        "colab_type": "code",
        "colab": {}
      },
      "source": [
        "vectorizer = CountVectorizer(ngram_range = (1,2), stop_words=stopwords.words('english'), \n",
        "                             min_df = 0.15, max_df = 0.8, max_features = 100)"
      ],
      "execution_count": 23,
      "outputs": []
    },
    {
      "cell_type": "code",
      "metadata": {
        "id": "t1yabPFg_ni9",
        "colab_type": "code",
        "colab": {
          "base_uri": "https://localhost:8080/",
          "height": 51
        },
        "outputId": "e5961aba-e25e-40f7-e290-139953a25824"
      },
      "source": [
        "X_train_dtm = vectorizer.fit_transform(X_train)\n",
        "X_test_dtm = vectorizer.transform(X_test)\n",
        "X_train_dtm"
      ],
      "execution_count": 24,
      "outputs": [
        {
          "output_type": "execute_result",
          "data": {
            "text/plain": [
              "<3750x24 sparse matrix of type '<class 'numpy.int64'>'\n",
              "\twith 18200 stored elements in Compressed Sparse Row format>"
            ]
          },
          "metadata": {
            "tags": []
          },
          "execution_count": 24
        }
      ]
    },
    {
      "cell_type": "code",
      "metadata": {
        "id": "Vfh9XQhA_njA",
        "colab_type": "code",
        "colab": {
          "base_uri": "https://localhost:8080/",
          "height": 34
        },
        "outputId": "9615099b-a085-4525-889a-37c6bc9429e9"
      },
      "source": [
        "# check the vocabulary( First 15 features)\n",
        "vectorizer.get_feature_names()[:10]"
      ],
      "execution_count": 25,
      "outputs": [
        {
          "output_type": "execute_result",
          "data": {
            "text/plain": [
              "['back', 'day', 'even', 'get', 'go', 'going', 'good', 'got', 'know', 'like']"
            ]
          },
          "metadata": {
            "tags": []
          },
          "execution_count": 25
        }
      ]
    },
    {
      "cell_type": "code",
      "metadata": {
        "id": "sBubdNR4_njE",
        "colab_type": "code",
        "colab": {
          "base_uri": "https://localhost:8080/",
          "height": 884
        },
        "outputId": "0e1311ee-15b8-4211-a8c3-b70711a64394"
      },
      "source": [
        "print(X_train_dtm )"
      ],
      "execution_count": 26,
      "outputs": [
        {
          "output_type": "stream",
          "text": [
            "  (0, 5)\t1\n",
            "  (0, 6)\t3\n",
            "  (0, 17)\t1\n",
            "  (0, 12)\t1\n",
            "  (0, 4)\t2\n",
            "  (1, 4)\t1\n",
            "  (1, 7)\t1\n",
            "  (1, 20)\t2\n",
            "  (1, 9)\t2\n",
            "  (1, 16)\t1\n",
            "  (1, 10)\t1\n",
            "  (1, 18)\t1\n",
            "  (2, 20)\t2\n",
            "  (3, 12)\t1\n",
            "  (3, 19)\t1\n",
            "  (3, 3)\t2\n",
            "  (3, 0)\t2\n",
            "  (3, 23)\t1\n",
            "  (3, 8)\t1\n",
            "  (4, 2)\t1\n",
            "  (5, 4)\t1\n",
            "  (5, 9)\t1\n",
            "  (5, 10)\t2\n",
            "  (5, 8)\t2\n",
            "  (7, 6)\t1\n",
            "  :\t:\n",
            "  (3743, 18)\t5\n",
            "  (3743, 19)\t1\n",
            "  (3743, 23)\t1\n",
            "  (3743, 8)\t8\n",
            "  (3743, 2)\t1\n",
            "  (3743, 1)\t1\n",
            "  (3743, 11)\t1\n",
            "  (3743, 13)\t2\n",
            "  (3746, 3)\t1\n",
            "  (3748, 5)\t4\n",
            "  (3748, 17)\t1\n",
            "  (3748, 7)\t1\n",
            "  (3748, 18)\t3\n",
            "  (3748, 19)\t1\n",
            "  (3748, 3)\t2\n",
            "  (3748, 23)\t2\n",
            "  (3748, 8)\t3\n",
            "  (3748, 2)\t2\n",
            "  (3748, 14)\t1\n",
            "  (3748, 11)\t1\n",
            "  (3748, 21)\t1\n",
            "  (3748, 22)\t1\n",
            "  (3748, 13)\t1\n",
            "  (3749, 9)\t1\n",
            "  (3749, 16)\t1\n"
          ],
          "name": "stdout"
        }
      ]
    },
    {
      "cell_type": "code",
      "metadata": {
        "id": "0SoCTeNR_njI",
        "colab_type": "code",
        "colab": {
          "base_uri": "https://localhost:8080/",
          "height": 419
        },
        "outputId": "ce9ae082-8591-4f97-fde9-874bf282510d"
      },
      "source": [
        "# examine vocabulary and document term matrix together\n",
        "pd.DataFrame(X_train_dtm.toarray(), columns = vectorizer.get_feature_names())"
      ],
      "execution_count": 27,
      "outputs": [
        {
          "output_type": "execute_result",
          "data": {
            "text/html": [
              "<div>\n",
              "<style scoped>\n",
              "    .dataframe tbody tr th:only-of-type {\n",
              "        vertical-align: middle;\n",
              "    }\n",
              "\n",
              "    .dataframe tbody tr th {\n",
              "        vertical-align: top;\n",
              "    }\n",
              "\n",
              "    .dataframe thead th {\n",
              "        text-align: right;\n",
              "    }\n",
              "</style>\n",
              "<table border=\"1\" class=\"dataframe\">\n",
              "  <thead>\n",
              "    <tr style=\"text-align: right;\">\n",
              "      <th></th>\n",
              "      <th>back</th>\n",
              "      <th>day</th>\n",
              "      <th>even</th>\n",
              "      <th>get</th>\n",
              "      <th>go</th>\n",
              "      <th>going</th>\n",
              "      <th>good</th>\n",
              "      <th>got</th>\n",
              "      <th>know</th>\n",
              "      <th>like</th>\n",
              "      <th>make</th>\n",
              "      <th>much</th>\n",
              "      <th>one</th>\n",
              "      <th>people</th>\n",
              "      <th>really</th>\n",
              "      <th>say</th>\n",
              "      <th>see</th>\n",
              "      <th>thing</th>\n",
              "      <th>think</th>\n",
              "      <th>time</th>\n",
              "      <th>urllink</th>\n",
              "      <th>way</th>\n",
              "      <th>well</th>\n",
              "      <th>would</th>\n",
              "    </tr>\n",
              "  </thead>\n",
              "  <tbody>\n",
              "    <tr>\n",
              "      <th>0</th>\n",
              "      <td>0</td>\n",
              "      <td>0</td>\n",
              "      <td>0</td>\n",
              "      <td>0</td>\n",
              "      <td>2</td>\n",
              "      <td>1</td>\n",
              "      <td>3</td>\n",
              "      <td>0</td>\n",
              "      <td>0</td>\n",
              "      <td>0</td>\n",
              "      <td>0</td>\n",
              "      <td>0</td>\n",
              "      <td>1</td>\n",
              "      <td>0</td>\n",
              "      <td>0</td>\n",
              "      <td>0</td>\n",
              "      <td>0</td>\n",
              "      <td>1</td>\n",
              "      <td>0</td>\n",
              "      <td>0</td>\n",
              "      <td>0</td>\n",
              "      <td>0</td>\n",
              "      <td>0</td>\n",
              "      <td>0</td>\n",
              "    </tr>\n",
              "    <tr>\n",
              "      <th>1</th>\n",
              "      <td>0</td>\n",
              "      <td>0</td>\n",
              "      <td>0</td>\n",
              "      <td>0</td>\n",
              "      <td>1</td>\n",
              "      <td>0</td>\n",
              "      <td>0</td>\n",
              "      <td>1</td>\n",
              "      <td>0</td>\n",
              "      <td>2</td>\n",
              "      <td>1</td>\n",
              "      <td>0</td>\n",
              "      <td>0</td>\n",
              "      <td>0</td>\n",
              "      <td>0</td>\n",
              "      <td>0</td>\n",
              "      <td>1</td>\n",
              "      <td>0</td>\n",
              "      <td>1</td>\n",
              "      <td>0</td>\n",
              "      <td>2</td>\n",
              "      <td>0</td>\n",
              "      <td>0</td>\n",
              "      <td>0</td>\n",
              "    </tr>\n",
              "    <tr>\n",
              "      <th>2</th>\n",
              "      <td>0</td>\n",
              "      <td>0</td>\n",
              "      <td>0</td>\n",
              "      <td>0</td>\n",
              "      <td>0</td>\n",
              "      <td>0</td>\n",
              "      <td>0</td>\n",
              "      <td>0</td>\n",
              "      <td>0</td>\n",
              "      <td>0</td>\n",
              "      <td>0</td>\n",
              "      <td>0</td>\n",
              "      <td>0</td>\n",
              "      <td>0</td>\n",
              "      <td>0</td>\n",
              "      <td>0</td>\n",
              "      <td>0</td>\n",
              "      <td>0</td>\n",
              "      <td>0</td>\n",
              "      <td>0</td>\n",
              "      <td>2</td>\n",
              "      <td>0</td>\n",
              "      <td>0</td>\n",
              "      <td>0</td>\n",
              "    </tr>\n",
              "    <tr>\n",
              "      <th>3</th>\n",
              "      <td>2</td>\n",
              "      <td>0</td>\n",
              "      <td>0</td>\n",
              "      <td>2</td>\n",
              "      <td>0</td>\n",
              "      <td>0</td>\n",
              "      <td>0</td>\n",
              "      <td>0</td>\n",
              "      <td>1</td>\n",
              "      <td>0</td>\n",
              "      <td>0</td>\n",
              "      <td>0</td>\n",
              "      <td>1</td>\n",
              "      <td>0</td>\n",
              "      <td>0</td>\n",
              "      <td>0</td>\n",
              "      <td>0</td>\n",
              "      <td>0</td>\n",
              "      <td>0</td>\n",
              "      <td>1</td>\n",
              "      <td>0</td>\n",
              "      <td>0</td>\n",
              "      <td>0</td>\n",
              "      <td>1</td>\n",
              "    </tr>\n",
              "    <tr>\n",
              "      <th>4</th>\n",
              "      <td>0</td>\n",
              "      <td>0</td>\n",
              "      <td>1</td>\n",
              "      <td>0</td>\n",
              "      <td>0</td>\n",
              "      <td>0</td>\n",
              "      <td>0</td>\n",
              "      <td>0</td>\n",
              "      <td>0</td>\n",
              "      <td>0</td>\n",
              "      <td>0</td>\n",
              "      <td>0</td>\n",
              "      <td>0</td>\n",
              "      <td>0</td>\n",
              "      <td>0</td>\n",
              "      <td>0</td>\n",
              "      <td>0</td>\n",
              "      <td>0</td>\n",
              "      <td>0</td>\n",
              "      <td>0</td>\n",
              "      <td>0</td>\n",
              "      <td>0</td>\n",
              "      <td>0</td>\n",
              "      <td>0</td>\n",
              "    </tr>\n",
              "    <tr>\n",
              "      <th>...</th>\n",
              "      <td>...</td>\n",
              "      <td>...</td>\n",
              "      <td>...</td>\n",
              "      <td>...</td>\n",
              "      <td>...</td>\n",
              "      <td>...</td>\n",
              "      <td>...</td>\n",
              "      <td>...</td>\n",
              "      <td>...</td>\n",
              "      <td>...</td>\n",
              "      <td>...</td>\n",
              "      <td>...</td>\n",
              "      <td>...</td>\n",
              "      <td>...</td>\n",
              "      <td>...</td>\n",
              "      <td>...</td>\n",
              "      <td>...</td>\n",
              "      <td>...</td>\n",
              "      <td>...</td>\n",
              "      <td>...</td>\n",
              "      <td>...</td>\n",
              "      <td>...</td>\n",
              "      <td>...</td>\n",
              "      <td>...</td>\n",
              "    </tr>\n",
              "    <tr>\n",
              "      <th>3745</th>\n",
              "      <td>0</td>\n",
              "      <td>0</td>\n",
              "      <td>0</td>\n",
              "      <td>0</td>\n",
              "      <td>0</td>\n",
              "      <td>0</td>\n",
              "      <td>0</td>\n",
              "      <td>0</td>\n",
              "      <td>0</td>\n",
              "      <td>0</td>\n",
              "      <td>0</td>\n",
              "      <td>0</td>\n",
              "      <td>0</td>\n",
              "      <td>0</td>\n",
              "      <td>0</td>\n",
              "      <td>0</td>\n",
              "      <td>0</td>\n",
              "      <td>0</td>\n",
              "      <td>0</td>\n",
              "      <td>0</td>\n",
              "      <td>0</td>\n",
              "      <td>0</td>\n",
              "      <td>0</td>\n",
              "      <td>0</td>\n",
              "    </tr>\n",
              "    <tr>\n",
              "      <th>3746</th>\n",
              "      <td>0</td>\n",
              "      <td>0</td>\n",
              "      <td>0</td>\n",
              "      <td>1</td>\n",
              "      <td>0</td>\n",
              "      <td>0</td>\n",
              "      <td>0</td>\n",
              "      <td>0</td>\n",
              "      <td>0</td>\n",
              "      <td>0</td>\n",
              "      <td>0</td>\n",
              "      <td>0</td>\n",
              "      <td>0</td>\n",
              "      <td>0</td>\n",
              "      <td>0</td>\n",
              "      <td>0</td>\n",
              "      <td>0</td>\n",
              "      <td>0</td>\n",
              "      <td>0</td>\n",
              "      <td>0</td>\n",
              "      <td>0</td>\n",
              "      <td>0</td>\n",
              "      <td>0</td>\n",
              "      <td>0</td>\n",
              "    </tr>\n",
              "    <tr>\n",
              "      <th>3747</th>\n",
              "      <td>0</td>\n",
              "      <td>0</td>\n",
              "      <td>0</td>\n",
              "      <td>0</td>\n",
              "      <td>0</td>\n",
              "      <td>0</td>\n",
              "      <td>0</td>\n",
              "      <td>0</td>\n",
              "      <td>0</td>\n",
              "      <td>0</td>\n",
              "      <td>0</td>\n",
              "      <td>0</td>\n",
              "      <td>0</td>\n",
              "      <td>0</td>\n",
              "      <td>0</td>\n",
              "      <td>0</td>\n",
              "      <td>0</td>\n",
              "      <td>0</td>\n",
              "      <td>0</td>\n",
              "      <td>0</td>\n",
              "      <td>0</td>\n",
              "      <td>0</td>\n",
              "      <td>0</td>\n",
              "      <td>0</td>\n",
              "    </tr>\n",
              "    <tr>\n",
              "      <th>3748</th>\n",
              "      <td>0</td>\n",
              "      <td>0</td>\n",
              "      <td>2</td>\n",
              "      <td>2</td>\n",
              "      <td>0</td>\n",
              "      <td>4</td>\n",
              "      <td>0</td>\n",
              "      <td>1</td>\n",
              "      <td>3</td>\n",
              "      <td>0</td>\n",
              "      <td>0</td>\n",
              "      <td>1</td>\n",
              "      <td>0</td>\n",
              "      <td>1</td>\n",
              "      <td>1</td>\n",
              "      <td>0</td>\n",
              "      <td>0</td>\n",
              "      <td>1</td>\n",
              "      <td>3</td>\n",
              "      <td>1</td>\n",
              "      <td>0</td>\n",
              "      <td>1</td>\n",
              "      <td>1</td>\n",
              "      <td>2</td>\n",
              "    </tr>\n",
              "    <tr>\n",
              "      <th>3749</th>\n",
              "      <td>0</td>\n",
              "      <td>0</td>\n",
              "      <td>0</td>\n",
              "      <td>0</td>\n",
              "      <td>0</td>\n",
              "      <td>0</td>\n",
              "      <td>0</td>\n",
              "      <td>0</td>\n",
              "      <td>0</td>\n",
              "      <td>1</td>\n",
              "      <td>0</td>\n",
              "      <td>0</td>\n",
              "      <td>0</td>\n",
              "      <td>0</td>\n",
              "      <td>0</td>\n",
              "      <td>0</td>\n",
              "      <td>1</td>\n",
              "      <td>0</td>\n",
              "      <td>0</td>\n",
              "      <td>0</td>\n",
              "      <td>0</td>\n",
              "      <td>0</td>\n",
              "      <td>0</td>\n",
              "      <td>0</td>\n",
              "    </tr>\n",
              "  </tbody>\n",
              "</table>\n",
              "<p>3750 rows × 24 columns</p>\n",
              "</div>"
            ],
            "text/plain": [
              "      back  day  even  get  go  going  ...  think  time  urllink  way  well  would\n",
              "0        0    0     0    0   2      1  ...      0     0        0    0     0      0\n",
              "1        0    0     0    0   1      0  ...      1     0        2    0     0      0\n",
              "2        0    0     0    0   0      0  ...      0     0        2    0     0      0\n",
              "3        2    0     0    2   0      0  ...      0     1        0    0     0      1\n",
              "4        0    0     1    0   0      0  ...      0     0        0    0     0      0\n",
              "...    ...  ...   ...  ...  ..    ...  ...    ...   ...      ...  ...   ...    ...\n",
              "3745     0    0     0    0   0      0  ...      0     0        0    0     0      0\n",
              "3746     0    0     0    1   0      0  ...      0     0        0    0     0      0\n",
              "3747     0    0     0    0   0      0  ...      0     0        0    0     0      0\n",
              "3748     0    0     2    2   0      4  ...      3     1        0    1     1      2\n",
              "3749     0    0     0    0   0      0  ...      0     0        0    0     0      0\n",
              "\n",
              "[3750 rows x 24 columns]"
            ]
          },
          "metadata": {
            "tags": []
          },
          "execution_count": 27
        }
      ]
    },
    {
      "cell_type": "code",
      "metadata": {
        "id": "hdfp43lW_njL",
        "colab_type": "code",
        "colab": {
          "base_uri": "https://localhost:8080/",
          "height": 884
        },
        "outputId": "3206de8f-3990-463d-be6b-e3acc9cadd2e"
      },
      "source": [
        "print(X_train_dtm )"
      ],
      "execution_count": 28,
      "outputs": [
        {
          "output_type": "stream",
          "text": [
            "  (0, 5)\t1\n",
            "  (0, 6)\t3\n",
            "  (0, 17)\t1\n",
            "  (0, 12)\t1\n",
            "  (0, 4)\t2\n",
            "  (1, 4)\t1\n",
            "  (1, 7)\t1\n",
            "  (1, 20)\t2\n",
            "  (1, 9)\t2\n",
            "  (1, 16)\t1\n",
            "  (1, 10)\t1\n",
            "  (1, 18)\t1\n",
            "  (2, 20)\t2\n",
            "  (3, 12)\t1\n",
            "  (3, 19)\t1\n",
            "  (3, 3)\t2\n",
            "  (3, 0)\t2\n",
            "  (3, 23)\t1\n",
            "  (3, 8)\t1\n",
            "  (4, 2)\t1\n",
            "  (5, 4)\t1\n",
            "  (5, 9)\t1\n",
            "  (5, 10)\t2\n",
            "  (5, 8)\t2\n",
            "  (7, 6)\t1\n",
            "  :\t:\n",
            "  (3743, 18)\t5\n",
            "  (3743, 19)\t1\n",
            "  (3743, 23)\t1\n",
            "  (3743, 8)\t8\n",
            "  (3743, 2)\t1\n",
            "  (3743, 1)\t1\n",
            "  (3743, 11)\t1\n",
            "  (3743, 13)\t2\n",
            "  (3746, 3)\t1\n",
            "  (3748, 5)\t4\n",
            "  (3748, 17)\t1\n",
            "  (3748, 7)\t1\n",
            "  (3748, 18)\t3\n",
            "  (3748, 19)\t1\n",
            "  (3748, 3)\t2\n",
            "  (3748, 23)\t2\n",
            "  (3748, 8)\t3\n",
            "  (3748, 2)\t2\n",
            "  (3748, 14)\t1\n",
            "  (3748, 11)\t1\n",
            "  (3748, 21)\t1\n",
            "  (3748, 22)\t1\n",
            "  (3748, 13)\t1\n",
            "  (3749, 9)\t1\n",
            "  (3749, 16)\t1\n"
          ],
          "name": "stdout"
        }
      ]
    },
    {
      "cell_type": "code",
      "metadata": {
        "id": "XlUuPcQ4_njO",
        "colab_type": "code",
        "colab": {
          "base_uri": "https://localhost:8080/",
          "height": 419
        },
        "outputId": "1fb220f9-8281-4735-827a-6e717fcc374a"
      },
      "source": [
        "# examine vocabulary and document term matrix together\n",
        "pd.DataFrame(X_test_dtm.toarray(), columns = vectorizer.get_feature_names())"
      ],
      "execution_count": 29,
      "outputs": [
        {
          "output_type": "execute_result",
          "data": {
            "text/html": [
              "<div>\n",
              "<style scoped>\n",
              "    .dataframe tbody tr th:only-of-type {\n",
              "        vertical-align: middle;\n",
              "    }\n",
              "\n",
              "    .dataframe tbody tr th {\n",
              "        vertical-align: top;\n",
              "    }\n",
              "\n",
              "    .dataframe thead th {\n",
              "        text-align: right;\n",
              "    }\n",
              "</style>\n",
              "<table border=\"1\" class=\"dataframe\">\n",
              "  <thead>\n",
              "    <tr style=\"text-align: right;\">\n",
              "      <th></th>\n",
              "      <th>back</th>\n",
              "      <th>day</th>\n",
              "      <th>even</th>\n",
              "      <th>get</th>\n",
              "      <th>go</th>\n",
              "      <th>going</th>\n",
              "      <th>good</th>\n",
              "      <th>got</th>\n",
              "      <th>know</th>\n",
              "      <th>like</th>\n",
              "      <th>make</th>\n",
              "      <th>much</th>\n",
              "      <th>one</th>\n",
              "      <th>people</th>\n",
              "      <th>really</th>\n",
              "      <th>say</th>\n",
              "      <th>see</th>\n",
              "      <th>thing</th>\n",
              "      <th>think</th>\n",
              "      <th>time</th>\n",
              "      <th>urllink</th>\n",
              "      <th>way</th>\n",
              "      <th>well</th>\n",
              "      <th>would</th>\n",
              "    </tr>\n",
              "  </thead>\n",
              "  <tbody>\n",
              "    <tr>\n",
              "      <th>0</th>\n",
              "      <td>0</td>\n",
              "      <td>0</td>\n",
              "      <td>0</td>\n",
              "      <td>0</td>\n",
              "      <td>0</td>\n",
              "      <td>0</td>\n",
              "      <td>0</td>\n",
              "      <td>0</td>\n",
              "      <td>0</td>\n",
              "      <td>0</td>\n",
              "      <td>0</td>\n",
              "      <td>0</td>\n",
              "      <td>0</td>\n",
              "      <td>0</td>\n",
              "      <td>0</td>\n",
              "      <td>0</td>\n",
              "      <td>0</td>\n",
              "      <td>0</td>\n",
              "      <td>0</td>\n",
              "      <td>0</td>\n",
              "      <td>0</td>\n",
              "      <td>0</td>\n",
              "      <td>0</td>\n",
              "      <td>0</td>\n",
              "    </tr>\n",
              "    <tr>\n",
              "      <th>1</th>\n",
              "      <td>1</td>\n",
              "      <td>1</td>\n",
              "      <td>0</td>\n",
              "      <td>0</td>\n",
              "      <td>0</td>\n",
              "      <td>0</td>\n",
              "      <td>0</td>\n",
              "      <td>0</td>\n",
              "      <td>0</td>\n",
              "      <td>0</td>\n",
              "      <td>0</td>\n",
              "      <td>0</td>\n",
              "      <td>0</td>\n",
              "      <td>1</td>\n",
              "      <td>0</td>\n",
              "      <td>0</td>\n",
              "      <td>0</td>\n",
              "      <td>0</td>\n",
              "      <td>0</td>\n",
              "      <td>0</td>\n",
              "      <td>0</td>\n",
              "      <td>0</td>\n",
              "      <td>0</td>\n",
              "      <td>0</td>\n",
              "    </tr>\n",
              "    <tr>\n",
              "      <th>2</th>\n",
              "      <td>0</td>\n",
              "      <td>1</td>\n",
              "      <td>0</td>\n",
              "      <td>0</td>\n",
              "      <td>0</td>\n",
              "      <td>0</td>\n",
              "      <td>0</td>\n",
              "      <td>0</td>\n",
              "      <td>0</td>\n",
              "      <td>0</td>\n",
              "      <td>0</td>\n",
              "      <td>0</td>\n",
              "      <td>0</td>\n",
              "      <td>0</td>\n",
              "      <td>0</td>\n",
              "      <td>0</td>\n",
              "      <td>0</td>\n",
              "      <td>0</td>\n",
              "      <td>0</td>\n",
              "      <td>0</td>\n",
              "      <td>0</td>\n",
              "      <td>0</td>\n",
              "      <td>0</td>\n",
              "      <td>0</td>\n",
              "    </tr>\n",
              "    <tr>\n",
              "      <th>3</th>\n",
              "      <td>0</td>\n",
              "      <td>0</td>\n",
              "      <td>0</td>\n",
              "      <td>0</td>\n",
              "      <td>0</td>\n",
              "      <td>0</td>\n",
              "      <td>0</td>\n",
              "      <td>0</td>\n",
              "      <td>0</td>\n",
              "      <td>0</td>\n",
              "      <td>0</td>\n",
              "      <td>0</td>\n",
              "      <td>0</td>\n",
              "      <td>0</td>\n",
              "      <td>0</td>\n",
              "      <td>0</td>\n",
              "      <td>0</td>\n",
              "      <td>0</td>\n",
              "      <td>0</td>\n",
              "      <td>0</td>\n",
              "      <td>0</td>\n",
              "      <td>0</td>\n",
              "      <td>0</td>\n",
              "      <td>0</td>\n",
              "    </tr>\n",
              "    <tr>\n",
              "      <th>4</th>\n",
              "      <td>0</td>\n",
              "      <td>0</td>\n",
              "      <td>0</td>\n",
              "      <td>0</td>\n",
              "      <td>0</td>\n",
              "      <td>0</td>\n",
              "      <td>0</td>\n",
              "      <td>0</td>\n",
              "      <td>0</td>\n",
              "      <td>0</td>\n",
              "      <td>0</td>\n",
              "      <td>0</td>\n",
              "      <td>0</td>\n",
              "      <td>0</td>\n",
              "      <td>0</td>\n",
              "      <td>0</td>\n",
              "      <td>0</td>\n",
              "      <td>0</td>\n",
              "      <td>0</td>\n",
              "      <td>0</td>\n",
              "      <td>0</td>\n",
              "      <td>0</td>\n",
              "      <td>0</td>\n",
              "      <td>0</td>\n",
              "    </tr>\n",
              "    <tr>\n",
              "      <th>...</th>\n",
              "      <td>...</td>\n",
              "      <td>...</td>\n",
              "      <td>...</td>\n",
              "      <td>...</td>\n",
              "      <td>...</td>\n",
              "      <td>...</td>\n",
              "      <td>...</td>\n",
              "      <td>...</td>\n",
              "      <td>...</td>\n",
              "      <td>...</td>\n",
              "      <td>...</td>\n",
              "      <td>...</td>\n",
              "      <td>...</td>\n",
              "      <td>...</td>\n",
              "      <td>...</td>\n",
              "      <td>...</td>\n",
              "      <td>...</td>\n",
              "      <td>...</td>\n",
              "      <td>...</td>\n",
              "      <td>...</td>\n",
              "      <td>...</td>\n",
              "      <td>...</td>\n",
              "      <td>...</td>\n",
              "      <td>...</td>\n",
              "    </tr>\n",
              "    <tr>\n",
              "      <th>1245</th>\n",
              "      <td>0</td>\n",
              "      <td>0</td>\n",
              "      <td>0</td>\n",
              "      <td>0</td>\n",
              "      <td>0</td>\n",
              "      <td>0</td>\n",
              "      <td>0</td>\n",
              "      <td>0</td>\n",
              "      <td>0</td>\n",
              "      <td>0</td>\n",
              "      <td>0</td>\n",
              "      <td>0</td>\n",
              "      <td>0</td>\n",
              "      <td>3</td>\n",
              "      <td>0</td>\n",
              "      <td>0</td>\n",
              "      <td>0</td>\n",
              "      <td>0</td>\n",
              "      <td>0</td>\n",
              "      <td>0</td>\n",
              "      <td>0</td>\n",
              "      <td>0</td>\n",
              "      <td>0</td>\n",
              "      <td>0</td>\n",
              "    </tr>\n",
              "    <tr>\n",
              "      <th>1246</th>\n",
              "      <td>0</td>\n",
              "      <td>0</td>\n",
              "      <td>0</td>\n",
              "      <td>1</td>\n",
              "      <td>1</td>\n",
              "      <td>0</td>\n",
              "      <td>0</td>\n",
              "      <td>0</td>\n",
              "      <td>0</td>\n",
              "      <td>0</td>\n",
              "      <td>0</td>\n",
              "      <td>0</td>\n",
              "      <td>1</td>\n",
              "      <td>0</td>\n",
              "      <td>0</td>\n",
              "      <td>2</td>\n",
              "      <td>0</td>\n",
              "      <td>1</td>\n",
              "      <td>0</td>\n",
              "      <td>0</td>\n",
              "      <td>0</td>\n",
              "      <td>0</td>\n",
              "      <td>0</td>\n",
              "      <td>0</td>\n",
              "    </tr>\n",
              "    <tr>\n",
              "      <th>1247</th>\n",
              "      <td>1</td>\n",
              "      <td>2</td>\n",
              "      <td>2</td>\n",
              "      <td>5</td>\n",
              "      <td>2</td>\n",
              "      <td>2</td>\n",
              "      <td>1</td>\n",
              "      <td>2</td>\n",
              "      <td>2</td>\n",
              "      <td>0</td>\n",
              "      <td>0</td>\n",
              "      <td>0</td>\n",
              "      <td>3</td>\n",
              "      <td>0</td>\n",
              "      <td>3</td>\n",
              "      <td>0</td>\n",
              "      <td>1</td>\n",
              "      <td>0</td>\n",
              "      <td>0</td>\n",
              "      <td>1</td>\n",
              "      <td>0</td>\n",
              "      <td>1</td>\n",
              "      <td>2</td>\n",
              "      <td>6</td>\n",
              "    </tr>\n",
              "    <tr>\n",
              "      <th>1248</th>\n",
              "      <td>0</td>\n",
              "      <td>0</td>\n",
              "      <td>0</td>\n",
              "      <td>1</td>\n",
              "      <td>0</td>\n",
              "      <td>0</td>\n",
              "      <td>1</td>\n",
              "      <td>1</td>\n",
              "      <td>0</td>\n",
              "      <td>0</td>\n",
              "      <td>0</td>\n",
              "      <td>0</td>\n",
              "      <td>0</td>\n",
              "      <td>0</td>\n",
              "      <td>0</td>\n",
              "      <td>0</td>\n",
              "      <td>1</td>\n",
              "      <td>0</td>\n",
              "      <td>0</td>\n",
              "      <td>0</td>\n",
              "      <td>1</td>\n",
              "      <td>0</td>\n",
              "      <td>0</td>\n",
              "      <td>0</td>\n",
              "    </tr>\n",
              "    <tr>\n",
              "      <th>1249</th>\n",
              "      <td>0</td>\n",
              "      <td>0</td>\n",
              "      <td>0</td>\n",
              "      <td>0</td>\n",
              "      <td>0</td>\n",
              "      <td>0</td>\n",
              "      <td>1</td>\n",
              "      <td>0</td>\n",
              "      <td>0</td>\n",
              "      <td>0</td>\n",
              "      <td>0</td>\n",
              "      <td>0</td>\n",
              "      <td>1</td>\n",
              "      <td>0</td>\n",
              "      <td>0</td>\n",
              "      <td>0</td>\n",
              "      <td>0</td>\n",
              "      <td>0</td>\n",
              "      <td>0</td>\n",
              "      <td>0</td>\n",
              "      <td>0</td>\n",
              "      <td>0</td>\n",
              "      <td>0</td>\n",
              "      <td>0</td>\n",
              "    </tr>\n",
              "  </tbody>\n",
              "</table>\n",
              "<p>1250 rows × 24 columns</p>\n",
              "</div>"
            ],
            "text/plain": [
              "      back  day  even  get  go  going  ...  think  time  urllink  way  well  would\n",
              "0        0    0     0    0   0      0  ...      0     0        0    0     0      0\n",
              "1        1    1     0    0   0      0  ...      0     0        0    0     0      0\n",
              "2        0    1     0    0   0      0  ...      0     0        0    0     0      0\n",
              "3        0    0     0    0   0      0  ...      0     0        0    0     0      0\n",
              "4        0    0     0    0   0      0  ...      0     0        0    0     0      0\n",
              "...    ...  ...   ...  ...  ..    ...  ...    ...   ...      ...  ...   ...    ...\n",
              "1245     0    0     0    0   0      0  ...      0     0        0    0     0      0\n",
              "1246     0    0     0    1   1      0  ...      0     0        0    0     0      0\n",
              "1247     1    2     2    5   2      2  ...      0     1        0    1     2      6\n",
              "1248     0    0     0    1   0      0  ...      0     0        1    0     0      0\n",
              "1249     0    0     0    0   0      0  ...      0     0        0    0     0      0\n",
              "\n",
              "[1250 rows x 24 columns]"
            ]
          },
          "metadata": {
            "tags": []
          },
          "execution_count": 29
        }
      ]
    },
    {
      "cell_type": "markdown",
      "metadata": {
        "id": "5EvuN8h8_njR",
        "colab_type": "text"
      },
      "source": [
        "# Create a dictionary to get the count of every label i.e. the key will be label name and value will be the total count of the label. Check below image for reference "
      ]
    },
    {
      "cell_type": "code",
      "metadata": {
        "id": "VYBVJkA2_njR",
        "colab_type": "code",
        "colab": {}
      },
      "source": [
        "dfT = df[['gender', 'age', 'topic', 'sign']]"
      ],
      "execution_count": 30,
      "outputs": []
    },
    {
      "cell_type": "code",
      "metadata": {
        "id": "-JRmD2aJ_njU",
        "colab_type": "code",
        "colab": {
          "base_uri": "https://localhost:8080/",
          "height": 119
        },
        "outputId": "abd20780-ba35-4107-fa13-3a70b44ce4a4"
      },
      "source": [
        "dfT['age'] = dfT['age'].astype('str')"
      ],
      "execution_count": 31,
      "outputs": [
        {
          "output_type": "stream",
          "text": [
            "/usr/local/lib/python3.6/dist-packages/ipykernel_launcher.py:1: SettingWithCopyWarning: \n",
            "A value is trying to be set on a copy of a slice from a DataFrame.\n",
            "Try using .loc[row_indexer,col_indexer] = value instead\n",
            "\n",
            "See the caveats in the documentation: https://pandas.pydata.org/pandas-docs/stable/user_guide/indexing.html#returning-a-view-versus-a-copy\n",
            "  \"\"\"Entry point for launching an IPython kernel.\n"
          ],
          "name": "stderr"
        }
      ]
    },
    {
      "cell_type": "code",
      "metadata": {
        "id": "QroLwj3D_njW",
        "colab_type": "code",
        "colab": {}
      },
      "source": [
        "keys=[] \n",
        "values=[] \n",
        "\n",
        "for i in range(dfT.shape[1]): # iterate through all the colummns        \n",
        "    for j in range(dfT.iloc[:,i].value_counts().shape[0]): # iterate through all the rows of value_counts of that column\n",
        "        keys.append(dfT.iloc[:,i].value_counts().index[j])         \n",
        "        values.append(dfT.iloc[:,i].value_counts().iloc[j])"
      ],
      "execution_count": 32,
      "outputs": []
    },
    {
      "cell_type": "code",
      "metadata": {
        "id": "n5nPLm6I_njZ",
        "colab_type": "code",
        "colab": {}
      },
      "source": [
        "dictionary = dict(zip(keys,values))"
      ],
      "execution_count": 33,
      "outputs": []
    },
    {
      "cell_type": "code",
      "metadata": {
        "id": "QQNRbhDg_njb",
        "colab_type": "code",
        "colab": {
          "base_uri": "https://localhost:8080/",
          "height": 54
        },
        "outputId": "9ed5cfc8-fce6-4586-cd59-5d2e43d38978"
      },
      "source": [
        "print(dictionary)"
      ],
      "execution_count": 34,
      "outputs": [
        {
          "output_type": "stream",
          "text": [
            "{'male': 3294, 'female': 1706, '35': 2307, '34': 540, '24': 353, '15': 339, '17': 331, '25': 268, '14': 170, '23': 137, '33': 101, '26': 96, '27': 86, '39': 79, '16': 67, '36': 60, '37': 19, '41': 14, '45': 14, '42': 9, '46': 7, '44': 3, 'Technology': 2332, 'indUnk': 1381, 'Student': 569, 'Engineering': 119, 'Education': 118, 'BusinessServices': 87, 'Sports-Recreation': 75, 'InvestmentBanking': 70, 'Communications-Media': 61, 'Non-Profit': 47, 'Science': 33, 'Arts': 31, 'Internet': 20, 'Banking': 16, 'Consulting': 16, 'Automotive': 14, 'Religion': 4, 'Law': 3, 'Accounting': 2, 'Museums-Libraries': 2, 'Aries': 2483, 'Sagittarius': 704, 'Libra': 414, 'Scorpio': 408, 'Aquarius': 329, 'Leo': 190, 'Taurus': 100, 'Cancer': 94, 'Gemini': 86, 'Capricorn': 84, 'Pisces': 67, 'Virgo': 41}\n"
          ],
          "name": "stdout"
        }
      ]
    },
    {
      "cell_type": "markdown",
      "metadata": {
        "id": "L39RInyU_nje",
        "colab_type": "text"
      },
      "source": [
        "# 7. Transform the labels"
      ]
    },
    {
      "cell_type": "code",
      "metadata": {
        "id": "u9BruhDw_njf",
        "colab_type": "code",
        "colab": {}
      },
      "source": [
        "from sklearn.preprocessing import MultiLabelBinarizer \n",
        "mlb = MultiLabelBinarizer(classes=sorted(dictionary.keys()))\n",
        "y_train_mlb = mlb.fit_transform(y_train)\n",
        "y_test_mlb = mlb.transform(y_test)"
      ],
      "execution_count": 35,
      "outputs": []
    },
    {
      "cell_type": "code",
      "metadata": {
        "id": "R4MvGZeN_njh",
        "colab_type": "code",
        "colab": {
          "base_uri": "https://localhost:8080/",
          "height": 68
        },
        "outputId": "46037d61-2287-4feb-8255-fa7200470e42"
      },
      "source": [
        "y_train_mlb[0]"
      ],
      "execution_count": 36,
      "outputs": [
        {
          "output_type": "execute_result",
          "data": {
            "text/plain": [
              "array([0, 0, 0, 0, 0, 0, 0, 0, 0, 0, 1, 0, 0, 0, 0, 0, 0, 0, 0, 0, 0, 0,\n",
              "       0, 0, 0, 0, 0, 0, 0, 0, 0, 0, 0, 0, 0, 0, 0, 0, 0, 0, 0, 0, 0, 1,\n",
              "       0, 0, 0, 0, 0, 0, 0, 1, 1, 0])"
            ]
          },
          "metadata": {
            "tags": []
          },
          "execution_count": 36
        }
      ]
    },
    {
      "cell_type": "code",
      "metadata": {
        "id": "hPTpLwGo_njl",
        "colab_type": "code",
        "colab": {
          "base_uri": "https://localhost:8080/",
          "height": 68
        },
        "outputId": "8ee17d59-3a91-4a1f-8e82-0161726a6b2a"
      },
      "source": [
        "y_test_mlb[0]"
      ],
      "execution_count": 37,
      "outputs": [
        {
          "output_type": "execute_result",
          "data": {
            "text/plain": [
              "array([0, 0, 0, 0, 0, 0, 0, 0, 0, 0, 0, 1, 0, 0, 0, 0, 0, 0, 0, 0, 0, 0,\n",
              "       1, 0, 0, 0, 0, 0, 0, 0, 0, 0, 0, 0, 0, 0, 0, 0, 0, 0, 0, 0, 0, 0,\n",
              "       0, 0, 0, 0, 0, 1, 0, 0, 0, 1])"
            ]
          },
          "metadata": {
            "tags": []
          },
          "execution_count": 37
        }
      ]
    },
    {
      "cell_type": "code",
      "metadata": {
        "id": "va3MOv4K_njn",
        "colab_type": "code",
        "colab": {
          "base_uri": "https://localhost:8080/",
          "height": 34
        },
        "outputId": "d66073ec-1be6-424f-b6d6-bf4d49a7edaa"
      },
      "source": [
        "y_train.iloc[1]"
      ],
      "execution_count": 38,
      "outputs": [
        {
          "output_type": "execute_result",
          "data": {
            "text/plain": [
              "['male', '39', 'Education', 'Virgo']"
            ]
          },
          "metadata": {
            "tags": []
          },
          "execution_count": 38
        }
      ]
    },
    {
      "cell_type": "code",
      "metadata": {
        "id": "rYejKLci_njr",
        "colab_type": "code",
        "colab": {
          "base_uri": "https://localhost:8080/",
          "height": 34
        },
        "outputId": "313ad2cd-3ccf-4bff-d644-921b97c4c464"
      },
      "source": [
        "mlb.inverse_transform(y_train_mlb)[1]"
      ],
      "execution_count": 39,
      "outputs": [
        {
          "output_type": "execute_result",
          "data": {
            "text/plain": [
              "('39', 'Education', 'Virgo', 'male')"
            ]
          },
          "metadata": {
            "tags": []
          },
          "execution_count": 39
        }
      ]
    },
    {
      "cell_type": "markdown",
      "metadata": {
        "id": "rarEiv0M_njt",
        "colab_type": "text"
      },
      "source": [
        "# 8. Choose a classifier"
      ]
    },
    {
      "cell_type": "code",
      "metadata": {
        "id": "JXgaFYwT_nju",
        "colab_type": "code",
        "colab": {
          "base_uri": "https://localhost:8080/",
          "height": 170
        },
        "outputId": "93b6ff0c-f71c-4981-fbc7-c16d3f8cb288"
      },
      "source": [
        "from sklearn.multiclass import OneVsRestClassifier\n",
        "from sklearn.linear_model import LogisticRegression\n",
        "\n",
        "lr = LogisticRegression(solver='lbfgs', multi_class='ovr')\n",
        "ovr = OneVsRestClassifier(lr)\n",
        "\n",
        "ovr.fit(X_train_dtm, y_train_mlb)\n",
        "y_pred_ovr_test = ovr.predict(X_test_dtm)\n",
        "#y_proba_ovr = ovr.predict_proba(X_test_dtm)\n",
        "y_pred_ovr_test"
      ],
      "execution_count": 40,
      "outputs": [
        {
          "output_type": "stream",
          "text": [
            "/usr/local/lib/python3.6/dist-packages/sklearn/multiclass.py:75: UserWarning: Label not 20 is present in all training examples.\n",
            "  str(classes[c]))\n"
          ],
          "name": "stderr"
        },
        {
          "output_type": "execute_result",
          "data": {
            "text/plain": [
              "array([[0, 0, 0, ..., 0, 0, 1],\n",
              "       [0, 0, 0, ..., 0, 0, 1],\n",
              "       [0, 0, 0, ..., 0, 0, 1],\n",
              "       ...,\n",
              "       [0, 0, 0, ..., 0, 0, 1],\n",
              "       [0, 0, 0, ..., 0, 0, 1],\n",
              "       [0, 0, 0, ..., 0, 0, 1]])"
            ]
          },
          "metadata": {
            "tags": []
          },
          "execution_count": 40
        }
      ]
    },
    {
      "cell_type": "code",
      "metadata": {
        "id": "Hz_zpIsJ_njw",
        "colab_type": "code",
        "colab": {
          "base_uri": "https://localhost:8080/",
          "height": 136
        },
        "outputId": "73d01386-2f42-433a-a41d-525003bab3b0"
      },
      "source": [
        "y_pred_ovr_train = ovr.predict(X_train_dtm)\n",
        "y_pred_ovr_train"
      ],
      "execution_count": 41,
      "outputs": [
        {
          "output_type": "execute_result",
          "data": {
            "text/plain": [
              "array([[0, 0, 0, ..., 1, 0, 0],\n",
              "       [0, 0, 0, ..., 0, 0, 1],\n",
              "       [0, 0, 0, ..., 0, 0, 1],\n",
              "       ...,\n",
              "       [0, 0, 0, ..., 0, 0, 1],\n",
              "       [0, 0, 0, ..., 1, 0, 0],\n",
              "       [0, 0, 0, ..., 0, 0, 1]])"
            ]
          },
          "metadata": {
            "tags": []
          },
          "execution_count": 41
        }
      ]
    },
    {
      "cell_type": "markdown",
      "metadata": {
        "id": "G-ZeH-2I_njz",
        "colab_type": "text"
      },
      "source": [
        "# 9. Fit the classifier, make predictions and get the accuracy"
      ]
    },
    {
      "cell_type": "code",
      "metadata": {
        "id": "FvFcJBpg_njz",
        "colab_type": "code",
        "colab": {}
      },
      "source": [
        "def print_scores(actual, predicted, averaging_type):\n",
        "    print('\\nAVERAGING TYPE==> ',averaging_type)\n",
        "    print('F1 score: ',f1_score(actual,predicted, average=averaging_type))\n",
        "    print('Average Precision Score: ',average_precision_score(actual,predicted, average=averaging_type))\n",
        "    print('Average Recall Score: ',recall_score(actual,predicted, average=averaging_type))"
      ],
      "execution_count": 42,
      "outputs": []
    },
    {
      "cell_type": "code",
      "metadata": {
        "id": "F1pK6TWx_nj2",
        "colab_type": "code",
        "colab": {
          "base_uri": "https://localhost:8080/",
          "height": 530
        },
        "outputId": "bf9ca90d-316f-4e33-b503-41a5a7de6a45"
      },
      "source": [
        "print('--------------------------TRAIN SCORES--------------------------------')\n",
        "print('Accuracy score: ',accuracy_score(y_train_mlb, y_pred_ovr_train))\n",
        "print_scores(y_train_mlb, y_pred_ovr_train, 'micro')\n",
        "print_scores(y_train_mlb, y_pred_ovr_train, 'macro')\n",
        "print_scores(y_train_mlb, y_pred_ovr_train, 'weighted')"
      ],
      "execution_count": 43,
      "outputs": [
        {
          "output_type": "stream",
          "text": [
            "--------------------------TRAIN SCORES--------------------------------\n",
            "Accuracy score:  0.3792\n",
            "\n",
            "AVERAGING TYPE==>  micro\n",
            "F1 score:  0.5674053736026672\n",
            "Average Precision Score:  0.37068071991953844\n",
            "Average Recall Score:  0.4822\n",
            "\n",
            "AVERAGING TYPE==>  macro\n",
            "F1 score:  0.11813605100170366\n"
          ],
          "name": "stdout"
        },
        {
          "output_type": "stream",
          "text": [
            "/usr/local/lib/python3.6/dist-packages/sklearn/metrics/_classification.py:1515: UndefinedMetricWarning: F-score is ill-defined and being set to 0.0 in labels with no true nor predicted samples. Use `zero_division` parameter to control this behavior.\n",
            "  average, \"true nor predicted\", 'F-score is', len(true_sum)\n",
            "/usr/local/lib/python3.6/dist-packages/sklearn/metrics/_ranking.py:677: RuntimeWarning: invalid value encountered in true_divide\n",
            "  recall = tps / tps[-1]\n",
            "/usr/local/lib/python3.6/dist-packages/sklearn/metrics/_classification.py:1272: UndefinedMetricWarning: Recall is ill-defined and being set to 0.0 in labels with no true samples. Use `zero_division` parameter to control this behavior.\n",
            "  _warn_prf(average, modifier, msg_start, len(result))\n",
            "/usr/local/lib/python3.6/dist-packages/sklearn/metrics/_classification.py:1515: UndefinedMetricWarning: F-score is ill-defined and being set to 0.0 in labels with no true nor predicted samples. Use `zero_division` parameter to control this behavior.\n",
            "  average, \"true nor predicted\", 'F-score is', len(true_sum)\n",
            "/usr/local/lib/python3.6/dist-packages/sklearn/metrics/_ranking.py:677: RuntimeWarning: invalid value encountered in true_divide\n",
            "  recall = tps / tps[-1]\n"
          ],
          "name": "stderr"
        },
        {
          "output_type": "stream",
          "text": [
            "Average Precision Score:  nan\n",
            "Average Recall Score:  0.09994636798882939\n",
            "\n",
            "AVERAGING TYPE==>  weighted\n",
            "F1 score:  0.4560601481067299\n",
            "Average Precision Score:  0.43236015674888184\n",
            "Average Recall Score:  0.4822\n"
          ],
          "name": "stdout"
        },
        {
          "output_type": "stream",
          "text": [
            "/usr/local/lib/python3.6/dist-packages/sklearn/metrics/_classification.py:1272: UndefinedMetricWarning: Recall is ill-defined and being set to 0.0 in labels with no true samples. Use `zero_division` parameter to control this behavior.\n",
            "  _warn_prf(average, modifier, msg_start, len(result))\n"
          ],
          "name": "stderr"
        }
      ]
    },
    {
      "cell_type": "code",
      "metadata": {
        "id": "PmTAlUuc_nj5",
        "colab_type": "code",
        "colab": {
          "base_uri": "https://localhost:8080/",
          "height": 530
        },
        "outputId": "52b3d3e9-60b8-47e9-a2ee-b864a4771b10"
      },
      "source": [
        "print('--------------------------TEST SCORES--------------------------------')\n",
        "print('Accuracy score: ',accuracy_score(y_test_mlb, y_pred_ovr_test))\n",
        "print_scores(y_test_mlb, y_pred_ovr_test, 'micro')\n",
        "print_scores(y_test_mlb, y_pred_ovr_test, 'macro')\n",
        "print_scores(y_test_mlb, y_pred_ovr_test, 'weighted')"
      ],
      "execution_count": 44,
      "outputs": [
        {
          "output_type": "stream",
          "text": [
            "--------------------------TEST SCORES--------------------------------\n",
            "Accuracy score:  0.3984\n",
            "\n",
            "AVERAGING TYPE==>  micro\n",
            "F1 score:  0.5827598273649831\n",
            "Average Precision Score:  0.38635320458998035\n",
            "Average Recall Score:  0.4996\n",
            "\n",
            "AVERAGING TYPE==>  macro\n",
            "F1 score:  0.10054771379652098\n",
            "Average Precision Score:  nan\n",
            "Average Recall Score:  0.09050924882727313\n",
            "\n",
            "AVERAGING TYPE==>  weighted\n",
            "F1 score:  0.47179843623652123\n",
            "Average Precision Score:  0.4461604322945511\n",
            "Average Recall Score:  0.4996\n"
          ],
          "name": "stdout"
        },
        {
          "output_type": "stream",
          "text": [
            "/usr/local/lib/python3.6/dist-packages/sklearn/metrics/_classification.py:1515: UndefinedMetricWarning: F-score is ill-defined and being set to 0.0 in labels with no true nor predicted samples. Use `zero_division` parameter to control this behavior.\n",
            "  average, \"true nor predicted\", 'F-score is', len(true_sum)\n",
            "/usr/local/lib/python3.6/dist-packages/sklearn/metrics/_ranking.py:677: RuntimeWarning: invalid value encountered in true_divide\n",
            "  recall = tps / tps[-1]\n",
            "/usr/local/lib/python3.6/dist-packages/sklearn/metrics/_classification.py:1272: UndefinedMetricWarning: Recall is ill-defined and being set to 0.0 in labels with no true samples. Use `zero_division` parameter to control this behavior.\n",
            "  _warn_prf(average, modifier, msg_start, len(result))\n",
            "/usr/local/lib/python3.6/dist-packages/sklearn/metrics/_classification.py:1515: UndefinedMetricWarning: F-score is ill-defined and being set to 0.0 in labels with no true nor predicted samples. Use `zero_division` parameter to control this behavior.\n",
            "  average, \"true nor predicted\", 'F-score is', len(true_sum)\n",
            "/usr/local/lib/python3.6/dist-packages/sklearn/metrics/_ranking.py:677: RuntimeWarning: invalid value encountered in true_divide\n",
            "  recall = tps / tps[-1]\n",
            "/usr/local/lib/python3.6/dist-packages/sklearn/metrics/_classification.py:1272: UndefinedMetricWarning: Recall is ill-defined and being set to 0.0 in labels with no true samples. Use `zero_division` parameter to control this behavior.\n",
            "  _warn_prf(average, modifier, msg_start, len(result))\n"
          ],
          "name": "stderr"
        }
      ]
    },
    {
      "cell_type": "markdown",
      "metadata": {
        "id": "YLnLmQZy_nj7",
        "colab_type": "text"
      },
      "source": [
        "# 10. Print true label and predicted label for any five examples"
      ]
    },
    {
      "cell_type": "code",
      "metadata": {
        "id": "AWBhqcJJ_nj8",
        "colab_type": "code",
        "colab": {}
      },
      "source": [
        "five_pred = y_pred_ovr_test[:5]\n",
        "five_actual = y_test_mlb[:5]"
      ],
      "execution_count": 45,
      "outputs": []
    },
    {
      "cell_type": "code",
      "metadata": {
        "id": "wXrGkD1J_nj-",
        "colab_type": "code",
        "colab": {
          "base_uri": "https://localhost:8080/",
          "height": 102
        },
        "outputId": "3eb2f723-c45f-447f-894a-b8c0c942b310"
      },
      "source": [
        "five_actual = mlb.inverse_transform(five_actual)\n",
        "five_actual"
      ],
      "execution_count": 46,
      "outputs": [
        {
          "output_type": "execute_result",
          "data": {
            "text/plain": [
              "[('35', 'Aries', 'Technology', 'male'),\n",
              " ('24', 'Scorpio', 'female', 'indUnk'),\n",
              " ('23', 'Sagittarius', 'indUnk', 'male'),\n",
              " ('35', 'Aries', 'Technology', 'male'),\n",
              " ('35', 'Aries', 'Technology', 'male')]"
            ]
          },
          "metadata": {
            "tags": []
          },
          "execution_count": 46
        }
      ]
    },
    {
      "cell_type": "code",
      "metadata": {
        "id": "L_ocnE5__nkA",
        "colab_type": "code",
        "colab": {
          "base_uri": "https://localhost:8080/",
          "height": 102
        },
        "outputId": "07a55bf2-42cb-4f3e-9236-588826d1d53f"
      },
      "source": [
        "five_pred = mlb.inverse_transform(five_pred)\n",
        "five_pred"
      ],
      "execution_count": 47,
      "outputs": [
        {
          "output_type": "execute_result",
          "data": {
            "text/plain": [
              "[('35', 'Aries', 'Technology', 'male'),\n",
              " ('35', 'Aries', 'Technology', 'male'),\n",
              " ('35', 'Aries', 'Technology', 'male'),\n",
              " ('35', 'Aries', 'Technology', 'male'),\n",
              " ('35', 'Aries', 'Technology', 'male')]"
            ]
          },
          "metadata": {
            "tags": []
          },
          "execution_count": 47
        }
      ]
    }
  ]
}